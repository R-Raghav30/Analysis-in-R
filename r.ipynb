{
 "cells": [
  {
   "cell_type": "code",
   "execution_count": null,
   "id": "0a25432e-19d3-4d24-94a5-e4d13cfd4de0",
   "metadata": {
    "vscode": {
     "languageId": "r"
    }
   },
   "outputs": [],
   "source": [
    "# Load necessary libraries\n",
    "library(readr)\n",
    "library(dplyr)\n",
    "library(ggplot2)\n",
    "library(lubridate)\n"
   ]
  },
  {
   "cell_type": "code",
   "execution_count": null,
   "id": "d286751c-f28a-409c-acde-d739cd20b407",
   "metadata": {
    "vscode": {
     "languageId": "r"
    }
   },
   "outputs": [
    {
     "name": "stderr",
     "output_type": "stream",
     "text": [
      "\u001b[1mRows: \u001b[22m\u001b[34m149116\u001b[39m \u001b[1mColumns: \u001b[22m\u001b[34m16\u001b[39m\n",
      "\u001b[36m──\u001b[39m \u001b[1mColumn specification\u001b[22m \u001b[36m────────────────────────────────────────────────────────────────────────────────────────────────\u001b[39m\n",
      "\u001b[1mDelimiter:\u001b[22m \",\"\n",
      "\u001b[31mchr\u001b[39m  (8): transaction_date, store_location, product_category, product_type, ...\n",
      "\u001b[32mdbl\u001b[39m  (7): transaction_id, store_id, product_id, transaction_qty, unit_price,...\n",
      "\u001b[34mtime\u001b[39m (1): transaction_time\n",
      "\n",
      "\u001b[36mℹ\u001b[39m Use `spec()` to retrieve the full column specification for this data.\n",
      "\u001b[36mℹ\u001b[39m Specify the column types or set `show_col_types = FALSE` to quiet this message.\n"
     ]
    },
    {
     "data": {
      "text/html": [
       "<table class=\"dataframe\">\n",
       "<caption>A spec_tbl_df: 149116 × 16</caption>\n",
       "<thead>\n",
       "\t<tr><th scope=col>transaction_id</th><th scope=col>transaction_date</th><th scope=col>transaction_time</th><th scope=col>store_id</th><th scope=col>store_location</th><th scope=col>product_id</th><th scope=col>transaction_qty</th><th scope=col>unit_price</th><th scope=col>product_category</th><th scope=col>product_type</th><th scope=col>product_detail</th><th scope=col>Size</th><th scope=col>Total_bill</th><th scope=col>Month Name</th><th scope=col>Day Name</th><th scope=col>Hour</th></tr>\n",
       "\t<tr><th scope=col>&lt;dbl&gt;</th><th scope=col>&lt;chr&gt;</th><th scope=col>&lt;time&gt;</th><th scope=col>&lt;dbl&gt;</th><th scope=col>&lt;chr&gt;</th><th scope=col>&lt;dbl&gt;</th><th scope=col>&lt;dbl&gt;</th><th scope=col>&lt;dbl&gt;</th><th scope=col>&lt;chr&gt;</th><th scope=col>&lt;chr&gt;</th><th scope=col>&lt;chr&gt;</th><th scope=col>&lt;chr&gt;</th><th scope=col>&lt;dbl&gt;</th><th scope=col>&lt;chr&gt;</th><th scope=col>&lt;chr&gt;</th><th scope=col>&lt;dbl&gt;</th></tr>\n",
       "</thead>\n",
       "<tbody>\n",
       "\t<tr><td>114301</td><td>01-06-2023</td><td>11:33:29</td><td>3</td><td>Airport</td><td>45</td><td>1</td><td>3</td><td>Tea</td><td>Brewed herbal tea</td><td>Peppermint</td><td>Large</td><td>3</td><td>June</td><td>Thursday </td><td>11</td></tr>\n",
       "\t<tr><td>115405</td><td>02-06-2023</td><td>11:18:24</td><td>3</td><td>Airport</td><td>45</td><td>1</td><td>3</td><td>Tea</td><td>Brewed herbal tea</td><td>Peppermint</td><td>Large</td><td>3</td><td>June</td><td>Friday   </td><td>11</td></tr>\n",
       "\t<tr><td>115478</td><td>02-06-2023</td><td>12:02:45</td><td>3</td><td>Airport</td><td>45</td><td>1</td><td>3</td><td>Tea</td><td>Brewed herbal tea</td><td>Peppermint</td><td>Large</td><td>3</td><td>June</td><td>Friday   </td><td>12</td></tr>\n",
       "\t<tr><td>116288</td><td>02-06-2023</td><td>19:39:47</td><td>3</td><td>Airport</td><td>45</td><td>1</td><td>3</td><td>Tea</td><td>Brewed herbal tea</td><td>Peppermint</td><td>Large</td><td>3</td><td>June</td><td>Friday   </td><td>19</td></tr>\n",
       "\t<tr><td>116714</td><td>03-06-2023</td><td>12:24:57</td><td>3</td><td>Airport</td><td>45</td><td>1</td><td>3</td><td>Tea</td><td>Brewed herbal tea</td><td>Peppermint</td><td>Large</td><td>3</td><td>June</td><td>Saturday </td><td>12</td></tr>\n",
       "\t<tr><td>116739</td><td>03-06-2023</td><td>12:44:17</td><td>3</td><td>Airport</td><td>45</td><td>1</td><td>3</td><td>Tea</td><td>Brewed herbal tea</td><td>Peppermint</td><td>Large</td><td>3</td><td>June</td><td>Saturday </td><td>12</td></tr>\n",
       "\t<tr><td>116853</td><td>03-06-2023</td><td>13:58:14</td><td>3</td><td>Airport</td><td>45</td><td>1</td><td>3</td><td>Tea</td><td>Brewed herbal tea</td><td>Peppermint</td><td>Large</td><td>3</td><td>June</td><td>Saturday </td><td>13</td></tr>\n",
       "\t<tr><td>117389</td><td>03-06-2023</td><td>18:57:29</td><td>3</td><td>Airport</td><td>45</td><td>1</td><td>3</td><td>Tea</td><td>Brewed herbal tea</td><td>Peppermint</td><td>Large</td><td>3</td><td>June</td><td>Saturday </td><td>18</td></tr>\n",
       "\t<tr><td>118056</td><td>04-06-2023</td><td>14:31:43</td><td>3</td><td>Airport</td><td>45</td><td>1</td><td>3</td><td>Tea</td><td>Brewed herbal tea</td><td>Peppermint</td><td>Large</td><td>3</td><td>June</td><td>Sunday   </td><td>14</td></tr>\n",
       "\t<tr><td>118281</td><td>04-06-2023</td><td>16:30:33</td><td>3</td><td>Airport</td><td>45</td><td>1</td><td>3</td><td>Tea</td><td>Brewed herbal tea</td><td>Peppermint</td><td>Large</td><td>3</td><td>June</td><td>Sunday   </td><td>16</td></tr>\n",
       "\t<tr><td>118428</td><td>04-06-2023</td><td>17:53:30</td><td>3</td><td>Airport</td><td>45</td><td>1</td><td>3</td><td>Tea</td><td>Brewed herbal tea</td><td>Peppermint</td><td>Large</td><td>3</td><td>June</td><td>Sunday   </td><td>17</td></tr>\n",
       "\t<tr><td>118913</td><td>05-06-2023</td><td>12:01:03</td><td>3</td><td>Airport</td><td>45</td><td>1</td><td>3</td><td>Tea</td><td>Brewed herbal tea</td><td>Peppermint</td><td>Large</td><td>3</td><td>June</td><td>Monday   </td><td>12</td></tr>\n",
       "\t<tr><td>119196</td><td>05-06-2023</td><td>14:19:59</td><td>3</td><td>Airport</td><td>45</td><td>1</td><td>3</td><td>Tea</td><td>Brewed herbal tea</td><td>Peppermint</td><td>Large</td><td>3</td><td>June</td><td>Monday   </td><td>14</td></tr>\n",
       "\t<tr><td>119240</td><td>05-06-2023</td><td>14:42:16</td><td>3</td><td>Airport</td><td>45</td><td>1</td><td>3</td><td>Tea</td><td>Brewed herbal tea</td><td>Peppermint</td><td>Large</td><td>3</td><td>June</td><td>Monday   </td><td>14</td></tr>\n",
       "\t<tr><td>119351</td><td>05-06-2023</td><td>15:51:35</td><td>3</td><td>Airport</td><td>45</td><td>1</td><td>3</td><td>Tea</td><td>Brewed herbal tea</td><td>Peppermint</td><td>Large</td><td>3</td><td>June</td><td>Monday   </td><td>15</td></tr>\n",
       "\t<tr><td>119444</td><td>05-06-2023</td><td>16:52:40</td><td>3</td><td>Airport</td><td>45</td><td>1</td><td>3</td><td>Tea</td><td>Brewed herbal tea</td><td>Peppermint</td><td>Large</td><td>3</td><td>June</td><td>Monday   </td><td>16</td></tr>\n",
       "\t<tr><td>119692</td><td>05-06-2023</td><td>19:51:09</td><td>3</td><td>Airport</td><td>45</td><td>1</td><td>3</td><td>Tea</td><td>Brewed herbal tea</td><td>Peppermint</td><td>Large</td><td>3</td><td>June</td><td>Monday   </td><td>19</td></tr>\n",
       "\t<tr><td>121279</td><td>07-06-2023</td><td>10:16:40</td><td>3</td><td>Airport</td><td>45</td><td>1</td><td>3</td><td>Tea</td><td>Brewed herbal tea</td><td>Peppermint</td><td>Large</td><td>3</td><td>June</td><td>Wednesday</td><td>10</td></tr>\n",
       "\t<tr><td>121416</td><td>07-06-2023</td><td>10:59:19</td><td>3</td><td>Airport</td><td>45</td><td>1</td><td>3</td><td>Tea</td><td>Brewed herbal tea</td><td>Peppermint</td><td>Large</td><td>3</td><td>June</td><td>Wednesday</td><td>10</td></tr>\n",
       "\t<tr><td>121493</td><td>07-06-2023</td><td>12:01:18</td><td>3</td><td>Airport</td><td>45</td><td>1</td><td>3</td><td>Tea</td><td>Brewed herbal tea</td><td>Peppermint</td><td>Large</td><td>3</td><td>June</td><td>Wednesday</td><td>12</td></tr>\n",
       "\t<tr><td>121656</td><td>07-06-2023</td><td>15:05:47</td><td>3</td><td>Airport</td><td>45</td><td>1</td><td>3</td><td>Tea</td><td>Brewed herbal tea</td><td>Peppermint</td><td>Large</td><td>3</td><td>June</td><td>Wednesday</td><td>15</td></tr>\n",
       "\t<tr><td>121709</td><td>07-06-2023</td><td>16:17:25</td><td>3</td><td>Airport</td><td>45</td><td>1</td><td>3</td><td>Tea</td><td>Brewed herbal tea</td><td>Peppermint</td><td>Large</td><td>3</td><td>June</td><td>Wednesday</td><td>16</td></tr>\n",
       "\t<tr><td>121876</td><td>07-06-2023</td><td>19:56:37</td><td>3</td><td>Airport</td><td>45</td><td>1</td><td>3</td><td>Tea</td><td>Brewed herbal tea</td><td>Peppermint</td><td>Large</td><td>3</td><td>June</td><td>Wednesday</td><td>19</td></tr>\n",
       "\t<tr><td>122518</td><td>08-06-2023</td><td>11:09:47</td><td>3</td><td>Airport</td><td>45</td><td>1</td><td>3</td><td>Tea</td><td>Brewed herbal tea</td><td>Peppermint</td><td>Large</td><td>3</td><td>June</td><td>Thursday </td><td>11</td></tr>\n",
       "\t<tr><td>122622</td><td>08-06-2023</td><td>12:09:57</td><td>3</td><td>Airport</td><td>45</td><td>1</td><td>3</td><td>Tea</td><td>Brewed herbal tea</td><td>Peppermint</td><td>Large</td><td>3</td><td>June</td><td>Thursday </td><td>12</td></tr>\n",
       "\t<tr><td>122818</td><td>08-06-2023</td><td>15:00:40</td><td>3</td><td>Airport</td><td>45</td><td>1</td><td>3</td><td>Tea</td><td>Brewed herbal tea</td><td>Peppermint</td><td>Large</td><td>3</td><td>June</td><td>Thursday </td><td>15</td></tr>\n",
       "\t<tr><td>122954</td><td>08-06-2023</td><td>16:58:47</td><td>3</td><td>Airport</td><td>45</td><td>1</td><td>3</td><td>Tea</td><td>Brewed herbal tea</td><td>Peppermint</td><td>Large</td><td>3</td><td>June</td><td>Thursday </td><td>16</td></tr>\n",
       "\t<tr><td>123152</td><td>08-06-2023</td><td>19:54:56</td><td>3</td><td>Airport</td><td>45</td><td>1</td><td>3</td><td>Tea</td><td>Brewed herbal tea</td><td>Peppermint</td><td>Large</td><td>3</td><td>June</td><td>Thursday </td><td>19</td></tr>\n",
       "\t<tr><td>123465</td><td>09-06-2023</td><td>08:39:35</td><td>3</td><td>Airport</td><td>45</td><td>1</td><td>3</td><td>Tea</td><td>Brewed herbal tea</td><td>Peppermint</td><td>Large</td><td>3</td><td>June</td><td>Friday   </td><td> 8</td></tr>\n",
       "\t<tr><td>123499</td><td>09-06-2023</td><td>08:55:36</td><td>3</td><td>Airport</td><td>45</td><td>1</td><td>3</td><td>Tea</td><td>Brewed herbal tea</td><td>Peppermint</td><td>Large</td><td>3</td><td>June</td><td>Friday   </td><td> 8</td></tr>\n",
       "\t<tr><td>⋮</td><td>⋮</td><td>⋮</td><td>⋮</td><td>⋮</td><td>⋮</td><td>⋮</td><td>⋮</td><td>⋮</td><td>⋮</td><td>⋮</td><td>⋮</td><td>⋮</td><td>⋮</td><td>⋮</td><td>⋮</td></tr>\n",
       "\t<tr><td> 21589</td><td>08-02-2023</td><td>12:58:32</td><td>5</td><td>Neelambur</td><td>65</td><td>4</td><td> 0.80</td><td>Flavours    </td><td>Sugar free syrup</td><td>Sugar Free Vanilla syrup </td><td>Not Defined</td><td>  3.2</td><td>February</td><td>Wednesday</td><td>12</td></tr>\n",
       "\t<tr><td> 38601</td><td>08-03-2023</td><td>10:01:24</td><td>5</td><td>Neelambur</td><td>65</td><td>4</td><td> 0.80</td><td>Flavours    </td><td>Sugar free syrup</td><td>Sugar Free Vanilla syrup </td><td>Not Defined</td><td>  3.2</td><td>March   </td><td>Wednesday</td><td>10</td></tr>\n",
       "\t<tr><td> 38657</td><td>08-03-2023</td><td>10:41:55</td><td>5</td><td>Neelambur</td><td>65</td><td>4</td><td> 0.80</td><td>Flavours    </td><td>Sugar free syrup</td><td>Sugar Free Vanilla syrup </td><td>Not Defined</td><td>  3.2</td><td>March   </td><td>Wednesday</td><td>10</td></tr>\n",
       "\t<tr><td> 38814</td><td>08-03-2023</td><td>13:38:14</td><td>5</td><td>Neelambur</td><td>64</td><td>4</td><td> 0.80</td><td>Flavours    </td><td>Regular syrup   </td><td>Hazelnut syrup           </td><td>Not Defined</td><td>  3.2</td><td>March   </td><td>Wednesday</td><td>13</td></tr>\n",
       "\t<tr><td> 39060</td><td>08-03-2023</td><td>19:32:15</td><td>5</td><td>Neelambur</td><td>64</td><td>4</td><td> 0.80</td><td>Flavours    </td><td>Regular syrup   </td><td>Hazelnut syrup           </td><td>Not Defined</td><td>  3.2</td><td>March   </td><td>Wednesday</td><td>19</td></tr>\n",
       "\t<tr><td> 39283</td><td>09-03-2023</td><td>09:04:04</td><td>5</td><td>Neelambur</td><td>82</td><td>6</td><td>12.00</td><td>Branded     </td><td>Housewares      </td><td>I Need My Bean! Diner mug</td><td>Not Defined</td><td> 72.0</td><td>March   </td><td>Thursday </td><td> 9</td></tr>\n",
       "\t<tr><td> 60947</td><td>08-04-2023</td><td>10:01:24</td><td>5</td><td>Neelambur</td><td>65</td><td>4</td><td> 0.80</td><td>Flavours    </td><td>Sugar free syrup</td><td>Sugar Free Vanilla syrup </td><td>Not Defined</td><td>  3.2</td><td>April   </td><td>Saturday </td><td>10</td></tr>\n",
       "\t<tr><td> 61227</td><td>08-04-2023</td><td>13:38:14</td><td>5</td><td>Neelambur</td><td>64</td><td>4</td><td> 0.80</td><td>Flavours    </td><td>Regular syrup   </td><td>Hazelnut syrup           </td><td>Not Defined</td><td>  3.2</td><td>April   </td><td>Saturday </td><td>13</td></tr>\n",
       "\t<tr><td> 61487</td><td>08-04-2023</td><td>18:36:57</td><td>5</td><td>Neelambur</td><td>63</td><td>4</td><td> 0.80</td><td>Flavours    </td><td>Regular syrup   </td><td>Carmel syrup             </td><td>Not Defined</td><td>  3.2</td><td>April   </td><td>Saturday </td><td>18</td></tr>\n",
       "\t<tr><td> 61792</td><td>09-04-2023</td><td>09:04:04</td><td>5</td><td>Neelambur</td><td>82</td><td>6</td><td>12.00</td><td>Branded     </td><td>Housewares      </td><td>I Need My Bean! Diner mug</td><td>Not Defined</td><td> 72.0</td><td>April   </td><td>Sunday   </td><td> 9</td></tr>\n",
       "\t<tr><td> 68976</td><td>17-04-2023</td><td>09:55:47</td><td>8</td><td>Kalapatti</td><td> 8</td><td>8</td><td>45.00</td><td>Coffee beans</td><td>Premium Beans   </td><td>Civet Cat                </td><td>Not Defined</td><td>360.0</td><td>April   </td><td>Monday   </td><td> 9</td></tr>\n",
       "\t<tr><td> 69151</td><td>17-04-2023</td><td>11:18:31</td><td>8</td><td>Kalapatti</td><td> 8</td><td>8</td><td>45.00</td><td>Coffee beans</td><td>Premium Beans   </td><td>Civet Cat                </td><td>Not Defined</td><td>360.0</td><td>April   </td><td>Monday   </td><td>11</td></tr>\n",
       "\t<tr><td> 88101</td><td>08-05-2023</td><td>09:38:08</td><td>5</td><td>Neelambur</td><td>64</td><td>4</td><td> 0.80</td><td>Flavours    </td><td>Regular syrup   </td><td>Hazelnut syrup           </td><td>Not Defined</td><td>  3.2</td><td>May     </td><td>Monday   </td><td> 9</td></tr>\n",
       "\t<tr><td> 88241</td><td>08-05-2023</td><td>10:41:55</td><td>5</td><td>Neelambur</td><td>65</td><td>4</td><td> 0.80</td><td>Flavours    </td><td>Sugar free syrup</td><td>Sugar Free Vanilla syrup </td><td>Not Defined</td><td>  3.2</td><td>May     </td><td>Monday   </td><td>10</td></tr>\n",
       "\t<tr><td> 88811</td><td>08-05-2023</td><td>18:36:57</td><td>5</td><td>Neelambur</td><td>63</td><td>4</td><td> 0.80</td><td>Flavours    </td><td>Regular syrup   </td><td>Carmel syrup             </td><td>Not Defined</td><td>  3.2</td><td>May     </td><td>Monday   </td><td>18</td></tr>\n",
       "\t<tr><td> 88870</td><td>08-05-2023</td><td>19:32:15</td><td>5</td><td>Neelambur</td><td>64</td><td>4</td><td> 0.80</td><td>Flavours    </td><td>Regular syrup   </td><td>Hazelnut syrup           </td><td>Not Defined</td><td>  3.2</td><td>May     </td><td>Monday   </td><td>19</td></tr>\n",
       "\t<tr><td> 94586</td><td>14-05-2023</td><td>08:34:10</td><td>5</td><td>Neelambur</td><td>41</td><td>4</td><td> 4.25</td><td>Coffee      </td><td>Barista Espresso</td><td>Cappuccino               </td><td>Large      </td><td> 17.0</td><td>May     </td><td>Sunday   </td><td> 8</td></tr>\n",
       "\t<tr><td> 98233</td><td>17-05-2023</td><td>09:05:20</td><td>8</td><td>Kalapatti</td><td> 8</td><td>8</td><td>45.00</td><td>Coffee beans</td><td>Premium Beans   </td><td>Civet Cat                </td><td>Not Defined</td><td>360.0</td><td>May     </td><td>Wednesday</td><td> 9</td></tr>\n",
       "\t<tr><td> 98529</td><td>17-05-2023</td><td>11:18:31</td><td>8</td><td>Kalapatti</td><td> 8</td><td>8</td><td>45.00</td><td>Coffee beans</td><td>Premium Beans   </td><td>Civet Cat                </td><td>Not Defined</td><td>360.0</td><td>May     </td><td>Wednesday</td><td>11</td></tr>\n",
       "\t<tr><td>122436</td><td>08-06-2023</td><td>10:41:55</td><td>5</td><td>Neelambur</td><td>65</td><td>4</td><td> 0.80</td><td>Flavours    </td><td>Sugar free syrup</td><td>Sugar Free Vanilla syrup </td><td>Not Defined</td><td>  3.2</td><td>June    </td><td>Thursday </td><td>10</td></tr>\n",
       "\t<tr><td>122727</td><td>08-06-2023</td><td>13:38:14</td><td>5</td><td>Neelambur</td><td>64</td><td>4</td><td> 0.80</td><td>Flavours    </td><td>Regular syrup   </td><td>Hazelnut syrup           </td><td>Not Defined</td><td>  3.2</td><td>June    </td><td>Thursday </td><td>13</td></tr>\n",
       "\t<tr><td>123052</td><td>08-06-2023</td><td>18:36:57</td><td>5</td><td>Neelambur</td><td>63</td><td>4</td><td> 0.80</td><td>Flavours    </td><td>Regular syrup   </td><td>Carmel syrup             </td><td>Not Defined</td><td>  3.2</td><td>June    </td><td>Thursday </td><td>18</td></tr>\n",
       "\t<tr><td>123136</td><td>08-06-2023</td><td>19:32:15</td><td>5</td><td>Neelambur</td><td>64</td><td>4</td><td> 0.80</td><td>Flavours    </td><td>Regular syrup   </td><td>Hazelnut syrup           </td><td>Not Defined</td><td>  3.2</td><td>June    </td><td>Thursday </td><td>19</td></tr>\n",
       "\t<tr><td>123490</td><td>09-06-2023</td><td>08:49:26</td><td>5</td><td>Neelambur</td><td>83</td><td>4</td><td>14.00</td><td>Branded     </td><td>Housewares      </td><td>I Need My Bean! Latte cup</td><td>Not Defined</td><td> 56.0</td><td>June    </td><td>Friday   </td><td> 8</td></tr>\n",
       "\t<tr><td>123523</td><td>09-06-2023</td><td>09:04:04</td><td>5</td><td>Neelambur</td><td>82</td><td>6</td><td>12.00</td><td>Branded     </td><td>Housewares      </td><td>I Need My Bean! Diner mug</td><td>Not Defined</td><td> 72.0</td><td>June    </td><td>Friday   </td><td> 9</td></tr>\n",
       "\t<tr><td>129465</td><td>14-06-2023</td><td>08:34:10</td><td>5</td><td>Neelambur</td><td>41</td><td>4</td><td> 4.25</td><td>Coffee      </td><td>Barista Espresso</td><td>Cappuccino               </td><td>Large      </td><td> 17.0</td><td>June    </td><td>Wednesday</td><td> 8</td></tr>\n",
       "\t<tr><td>133523</td><td>17-06-2023</td><td>09:55:47</td><td>8</td><td>Kalapatti</td><td> 8</td><td>8</td><td>45.00</td><td>Coffee beans</td><td>Premium Beans   </td><td>Civet Cat                </td><td>Not Defined</td><td>360.0</td><td>June    </td><td>Saturday </td><td> 9</td></tr>\n",
       "\t<tr><td>133674</td><td>17-06-2023</td><td>10:41:11</td><td>8</td><td>Kalapatti</td><td> 8</td><td>8</td><td>45.00</td><td>Coffee beans</td><td>Premium Beans   </td><td>Civet Cat                </td><td>Not Defined</td><td>360.0</td><td>June    </td><td>Saturday </td><td>10</td></tr>\n",
       "\t<tr><td>133744</td><td>17-06-2023</td><td>11:18:31</td><td>8</td><td>Kalapatti</td><td> 8</td><td>8</td><td>45.00</td><td>Coffee beans</td><td>Premium Beans   </td><td>Civet Cat                </td><td>Not Defined</td><td>360.0</td><td>June    </td><td>Saturday </td><td>11</td></tr>\n",
       "\t<tr><td>149043</td><td>30-06-2023</td><td>11:18:31</td><td>8</td><td>Kalapatti</td><td> 8</td><td>8</td><td>45.00</td><td>Coffee beans</td><td>Premium Beans   </td><td>Civet Cat                </td><td>Not Defined</td><td>360.0</td><td>June    </td><td>Friday   </td><td>11</td></tr>\n",
       "</tbody>\n",
       "</table>\n"
      ],
      "text/latex": [
       "A spec\\_tbl\\_df: 149116 × 16\n",
       "\\begin{tabular}{llllllllllllllll}\n",
       " transaction\\_id & transaction\\_date & transaction\\_time & store\\_id & store\\_location & product\\_id & transaction\\_qty & unit\\_price & product\\_category & product\\_type & product\\_detail & Size & Total\\_bill & Month Name & Day Name & Hour\\\\\n",
       " <dbl> & <chr> & <time> & <dbl> & <chr> & <dbl> & <dbl> & <dbl> & <chr> & <chr> & <chr> & <chr> & <dbl> & <chr> & <chr> & <dbl>\\\\\n",
       "\\hline\n",
       "\t 114301 & 01-06-2023 & 11:33:29 & 3 & Airport & 45 & 1 & 3 & Tea & Brewed herbal tea & Peppermint & Large & 3 & June & Thursday  & 11\\\\\n",
       "\t 115405 & 02-06-2023 & 11:18:24 & 3 & Airport & 45 & 1 & 3 & Tea & Brewed herbal tea & Peppermint & Large & 3 & June & Friday    & 11\\\\\n",
       "\t 115478 & 02-06-2023 & 12:02:45 & 3 & Airport & 45 & 1 & 3 & Tea & Brewed herbal tea & Peppermint & Large & 3 & June & Friday    & 12\\\\\n",
       "\t 116288 & 02-06-2023 & 19:39:47 & 3 & Airport & 45 & 1 & 3 & Tea & Brewed herbal tea & Peppermint & Large & 3 & June & Friday    & 19\\\\\n",
       "\t 116714 & 03-06-2023 & 12:24:57 & 3 & Airport & 45 & 1 & 3 & Tea & Brewed herbal tea & Peppermint & Large & 3 & June & Saturday  & 12\\\\\n",
       "\t 116739 & 03-06-2023 & 12:44:17 & 3 & Airport & 45 & 1 & 3 & Tea & Brewed herbal tea & Peppermint & Large & 3 & June & Saturday  & 12\\\\\n",
       "\t 116853 & 03-06-2023 & 13:58:14 & 3 & Airport & 45 & 1 & 3 & Tea & Brewed herbal tea & Peppermint & Large & 3 & June & Saturday  & 13\\\\\n",
       "\t 117389 & 03-06-2023 & 18:57:29 & 3 & Airport & 45 & 1 & 3 & Tea & Brewed herbal tea & Peppermint & Large & 3 & June & Saturday  & 18\\\\\n",
       "\t 118056 & 04-06-2023 & 14:31:43 & 3 & Airport & 45 & 1 & 3 & Tea & Brewed herbal tea & Peppermint & Large & 3 & June & Sunday    & 14\\\\\n",
       "\t 118281 & 04-06-2023 & 16:30:33 & 3 & Airport & 45 & 1 & 3 & Tea & Brewed herbal tea & Peppermint & Large & 3 & June & Sunday    & 16\\\\\n",
       "\t 118428 & 04-06-2023 & 17:53:30 & 3 & Airport & 45 & 1 & 3 & Tea & Brewed herbal tea & Peppermint & Large & 3 & June & Sunday    & 17\\\\\n",
       "\t 118913 & 05-06-2023 & 12:01:03 & 3 & Airport & 45 & 1 & 3 & Tea & Brewed herbal tea & Peppermint & Large & 3 & June & Monday    & 12\\\\\n",
       "\t 119196 & 05-06-2023 & 14:19:59 & 3 & Airport & 45 & 1 & 3 & Tea & Brewed herbal tea & Peppermint & Large & 3 & June & Monday    & 14\\\\\n",
       "\t 119240 & 05-06-2023 & 14:42:16 & 3 & Airport & 45 & 1 & 3 & Tea & Brewed herbal tea & Peppermint & Large & 3 & June & Monday    & 14\\\\\n",
       "\t 119351 & 05-06-2023 & 15:51:35 & 3 & Airport & 45 & 1 & 3 & Tea & Brewed herbal tea & Peppermint & Large & 3 & June & Monday    & 15\\\\\n",
       "\t 119444 & 05-06-2023 & 16:52:40 & 3 & Airport & 45 & 1 & 3 & Tea & Brewed herbal tea & Peppermint & Large & 3 & June & Monday    & 16\\\\\n",
       "\t 119692 & 05-06-2023 & 19:51:09 & 3 & Airport & 45 & 1 & 3 & Tea & Brewed herbal tea & Peppermint & Large & 3 & June & Monday    & 19\\\\\n",
       "\t 121279 & 07-06-2023 & 10:16:40 & 3 & Airport & 45 & 1 & 3 & Tea & Brewed herbal tea & Peppermint & Large & 3 & June & Wednesday & 10\\\\\n",
       "\t 121416 & 07-06-2023 & 10:59:19 & 3 & Airport & 45 & 1 & 3 & Tea & Brewed herbal tea & Peppermint & Large & 3 & June & Wednesday & 10\\\\\n",
       "\t 121493 & 07-06-2023 & 12:01:18 & 3 & Airport & 45 & 1 & 3 & Tea & Brewed herbal tea & Peppermint & Large & 3 & June & Wednesday & 12\\\\\n",
       "\t 121656 & 07-06-2023 & 15:05:47 & 3 & Airport & 45 & 1 & 3 & Tea & Brewed herbal tea & Peppermint & Large & 3 & June & Wednesday & 15\\\\\n",
       "\t 121709 & 07-06-2023 & 16:17:25 & 3 & Airport & 45 & 1 & 3 & Tea & Brewed herbal tea & Peppermint & Large & 3 & June & Wednesday & 16\\\\\n",
       "\t 121876 & 07-06-2023 & 19:56:37 & 3 & Airport & 45 & 1 & 3 & Tea & Brewed herbal tea & Peppermint & Large & 3 & June & Wednesday & 19\\\\\n",
       "\t 122518 & 08-06-2023 & 11:09:47 & 3 & Airport & 45 & 1 & 3 & Tea & Brewed herbal tea & Peppermint & Large & 3 & June & Thursday  & 11\\\\\n",
       "\t 122622 & 08-06-2023 & 12:09:57 & 3 & Airport & 45 & 1 & 3 & Tea & Brewed herbal tea & Peppermint & Large & 3 & June & Thursday  & 12\\\\\n",
       "\t 122818 & 08-06-2023 & 15:00:40 & 3 & Airport & 45 & 1 & 3 & Tea & Brewed herbal tea & Peppermint & Large & 3 & June & Thursday  & 15\\\\\n",
       "\t 122954 & 08-06-2023 & 16:58:47 & 3 & Airport & 45 & 1 & 3 & Tea & Brewed herbal tea & Peppermint & Large & 3 & June & Thursday  & 16\\\\\n",
       "\t 123152 & 08-06-2023 & 19:54:56 & 3 & Airport & 45 & 1 & 3 & Tea & Brewed herbal tea & Peppermint & Large & 3 & June & Thursday  & 19\\\\\n",
       "\t 123465 & 09-06-2023 & 08:39:35 & 3 & Airport & 45 & 1 & 3 & Tea & Brewed herbal tea & Peppermint & Large & 3 & June & Friday    &  8\\\\\n",
       "\t 123499 & 09-06-2023 & 08:55:36 & 3 & Airport & 45 & 1 & 3 & Tea & Brewed herbal tea & Peppermint & Large & 3 & June & Friday    &  8\\\\\n",
       "\t ⋮ & ⋮ & ⋮ & ⋮ & ⋮ & ⋮ & ⋮ & ⋮ & ⋮ & ⋮ & ⋮ & ⋮ & ⋮ & ⋮ & ⋮ & ⋮\\\\\n",
       "\t  21589 & 08-02-2023 & 12:58:32 & 5 & Neelambur & 65 & 4 &  0.80 & Flavours     & Sugar free syrup & Sugar Free Vanilla syrup  & Not Defined &   3.2 & February & Wednesday & 12\\\\\n",
       "\t  38601 & 08-03-2023 & 10:01:24 & 5 & Neelambur & 65 & 4 &  0.80 & Flavours     & Sugar free syrup & Sugar Free Vanilla syrup  & Not Defined &   3.2 & March    & Wednesday & 10\\\\\n",
       "\t  38657 & 08-03-2023 & 10:41:55 & 5 & Neelambur & 65 & 4 &  0.80 & Flavours     & Sugar free syrup & Sugar Free Vanilla syrup  & Not Defined &   3.2 & March    & Wednesday & 10\\\\\n",
       "\t  38814 & 08-03-2023 & 13:38:14 & 5 & Neelambur & 64 & 4 &  0.80 & Flavours     & Regular syrup    & Hazelnut syrup            & Not Defined &   3.2 & March    & Wednesday & 13\\\\\n",
       "\t  39060 & 08-03-2023 & 19:32:15 & 5 & Neelambur & 64 & 4 &  0.80 & Flavours     & Regular syrup    & Hazelnut syrup            & Not Defined &   3.2 & March    & Wednesday & 19\\\\\n",
       "\t  39283 & 09-03-2023 & 09:04:04 & 5 & Neelambur & 82 & 6 & 12.00 & Branded      & Housewares       & I Need My Bean! Diner mug & Not Defined &  72.0 & March    & Thursday  &  9\\\\\n",
       "\t  60947 & 08-04-2023 & 10:01:24 & 5 & Neelambur & 65 & 4 &  0.80 & Flavours     & Sugar free syrup & Sugar Free Vanilla syrup  & Not Defined &   3.2 & April    & Saturday  & 10\\\\\n",
       "\t  61227 & 08-04-2023 & 13:38:14 & 5 & Neelambur & 64 & 4 &  0.80 & Flavours     & Regular syrup    & Hazelnut syrup            & Not Defined &   3.2 & April    & Saturday  & 13\\\\\n",
       "\t  61487 & 08-04-2023 & 18:36:57 & 5 & Neelambur & 63 & 4 &  0.80 & Flavours     & Regular syrup    & Carmel syrup              & Not Defined &   3.2 & April    & Saturday  & 18\\\\\n",
       "\t  61792 & 09-04-2023 & 09:04:04 & 5 & Neelambur & 82 & 6 & 12.00 & Branded      & Housewares       & I Need My Bean! Diner mug & Not Defined &  72.0 & April    & Sunday    &  9\\\\\n",
       "\t  68976 & 17-04-2023 & 09:55:47 & 8 & Kalapatti &  8 & 8 & 45.00 & Coffee beans & Premium Beans    & Civet Cat                 & Not Defined & 360.0 & April    & Monday    &  9\\\\\n",
       "\t  69151 & 17-04-2023 & 11:18:31 & 8 & Kalapatti &  8 & 8 & 45.00 & Coffee beans & Premium Beans    & Civet Cat                 & Not Defined & 360.0 & April    & Monday    & 11\\\\\n",
       "\t  88101 & 08-05-2023 & 09:38:08 & 5 & Neelambur & 64 & 4 &  0.80 & Flavours     & Regular syrup    & Hazelnut syrup            & Not Defined &   3.2 & May      & Monday    &  9\\\\\n",
       "\t  88241 & 08-05-2023 & 10:41:55 & 5 & Neelambur & 65 & 4 &  0.80 & Flavours     & Sugar free syrup & Sugar Free Vanilla syrup  & Not Defined &   3.2 & May      & Monday    & 10\\\\\n",
       "\t  88811 & 08-05-2023 & 18:36:57 & 5 & Neelambur & 63 & 4 &  0.80 & Flavours     & Regular syrup    & Carmel syrup              & Not Defined &   3.2 & May      & Monday    & 18\\\\\n",
       "\t  88870 & 08-05-2023 & 19:32:15 & 5 & Neelambur & 64 & 4 &  0.80 & Flavours     & Regular syrup    & Hazelnut syrup            & Not Defined &   3.2 & May      & Monday    & 19\\\\\n",
       "\t  94586 & 14-05-2023 & 08:34:10 & 5 & Neelambur & 41 & 4 &  4.25 & Coffee       & Barista Espresso & Cappuccino                & Large       &  17.0 & May      & Sunday    &  8\\\\\n",
       "\t  98233 & 17-05-2023 & 09:05:20 & 8 & Kalapatti &  8 & 8 & 45.00 & Coffee beans & Premium Beans    & Civet Cat                 & Not Defined & 360.0 & May      & Wednesday &  9\\\\\n",
       "\t  98529 & 17-05-2023 & 11:18:31 & 8 & Kalapatti &  8 & 8 & 45.00 & Coffee beans & Premium Beans    & Civet Cat                 & Not Defined & 360.0 & May      & Wednesday & 11\\\\\n",
       "\t 122436 & 08-06-2023 & 10:41:55 & 5 & Neelambur & 65 & 4 &  0.80 & Flavours     & Sugar free syrup & Sugar Free Vanilla syrup  & Not Defined &   3.2 & June     & Thursday  & 10\\\\\n",
       "\t 122727 & 08-06-2023 & 13:38:14 & 5 & Neelambur & 64 & 4 &  0.80 & Flavours     & Regular syrup    & Hazelnut syrup            & Not Defined &   3.2 & June     & Thursday  & 13\\\\\n",
       "\t 123052 & 08-06-2023 & 18:36:57 & 5 & Neelambur & 63 & 4 &  0.80 & Flavours     & Regular syrup    & Carmel syrup              & Not Defined &   3.2 & June     & Thursday  & 18\\\\\n",
       "\t 123136 & 08-06-2023 & 19:32:15 & 5 & Neelambur & 64 & 4 &  0.80 & Flavours     & Regular syrup    & Hazelnut syrup            & Not Defined &   3.2 & June     & Thursday  & 19\\\\\n",
       "\t 123490 & 09-06-2023 & 08:49:26 & 5 & Neelambur & 83 & 4 & 14.00 & Branded      & Housewares       & I Need My Bean! Latte cup & Not Defined &  56.0 & June     & Friday    &  8\\\\\n",
       "\t 123523 & 09-06-2023 & 09:04:04 & 5 & Neelambur & 82 & 6 & 12.00 & Branded      & Housewares       & I Need My Bean! Diner mug & Not Defined &  72.0 & June     & Friday    &  9\\\\\n",
       "\t 129465 & 14-06-2023 & 08:34:10 & 5 & Neelambur & 41 & 4 &  4.25 & Coffee       & Barista Espresso & Cappuccino                & Large       &  17.0 & June     & Wednesday &  8\\\\\n",
       "\t 133523 & 17-06-2023 & 09:55:47 & 8 & Kalapatti &  8 & 8 & 45.00 & Coffee beans & Premium Beans    & Civet Cat                 & Not Defined & 360.0 & June     & Saturday  &  9\\\\\n",
       "\t 133674 & 17-06-2023 & 10:41:11 & 8 & Kalapatti &  8 & 8 & 45.00 & Coffee beans & Premium Beans    & Civet Cat                 & Not Defined & 360.0 & June     & Saturday  & 10\\\\\n",
       "\t 133744 & 17-06-2023 & 11:18:31 & 8 & Kalapatti &  8 & 8 & 45.00 & Coffee beans & Premium Beans    & Civet Cat                 & Not Defined & 360.0 & June     & Saturday  & 11\\\\\n",
       "\t 149043 & 30-06-2023 & 11:18:31 & 8 & Kalapatti &  8 & 8 & 45.00 & Coffee beans & Premium Beans    & Civet Cat                 & Not Defined & 360.0 & June     & Friday    & 11\\\\\n",
       "\\end{tabular}\n"
      ],
      "text/markdown": [
       "\n",
       "A spec_tbl_df: 149116 × 16\n",
       "\n",
       "| transaction_id &lt;dbl&gt; | transaction_date &lt;chr&gt; | transaction_time &lt;time&gt; | store_id &lt;dbl&gt; | store_location &lt;chr&gt; | product_id &lt;dbl&gt; | transaction_qty &lt;dbl&gt; | unit_price &lt;dbl&gt; | product_category &lt;chr&gt; | product_type &lt;chr&gt; | product_detail &lt;chr&gt; | Size &lt;chr&gt; | Total_bill &lt;dbl&gt; | Month Name &lt;chr&gt; | Day Name &lt;chr&gt; | Hour &lt;dbl&gt; |\n",
       "|---|---|---|---|---|---|---|---|---|---|---|---|---|---|---|---|\n",
       "| 114301 | 01-06-2023 | 11:33:29 | 3 | Airport | 45 | 1 | 3 | Tea | Brewed herbal tea | Peppermint | Large | 3 | June | Thursday  | 11 |\n",
       "| 115405 | 02-06-2023 | 11:18:24 | 3 | Airport | 45 | 1 | 3 | Tea | Brewed herbal tea | Peppermint | Large | 3 | June | Friday    | 11 |\n",
       "| 115478 | 02-06-2023 | 12:02:45 | 3 | Airport | 45 | 1 | 3 | Tea | Brewed herbal tea | Peppermint | Large | 3 | June | Friday    | 12 |\n",
       "| 116288 | 02-06-2023 | 19:39:47 | 3 | Airport | 45 | 1 | 3 | Tea | Brewed herbal tea | Peppermint | Large | 3 | June | Friday    | 19 |\n",
       "| 116714 | 03-06-2023 | 12:24:57 | 3 | Airport | 45 | 1 | 3 | Tea | Brewed herbal tea | Peppermint | Large | 3 | June | Saturday  | 12 |\n",
       "| 116739 | 03-06-2023 | 12:44:17 | 3 | Airport | 45 | 1 | 3 | Tea | Brewed herbal tea | Peppermint | Large | 3 | June | Saturday  | 12 |\n",
       "| 116853 | 03-06-2023 | 13:58:14 | 3 | Airport | 45 | 1 | 3 | Tea | Brewed herbal tea | Peppermint | Large | 3 | June | Saturday  | 13 |\n",
       "| 117389 | 03-06-2023 | 18:57:29 | 3 | Airport | 45 | 1 | 3 | Tea | Brewed herbal tea | Peppermint | Large | 3 | June | Saturday  | 18 |\n",
       "| 118056 | 04-06-2023 | 14:31:43 | 3 | Airport | 45 | 1 | 3 | Tea | Brewed herbal tea | Peppermint | Large | 3 | June | Sunday    | 14 |\n",
       "| 118281 | 04-06-2023 | 16:30:33 | 3 | Airport | 45 | 1 | 3 | Tea | Brewed herbal tea | Peppermint | Large | 3 | June | Sunday    | 16 |\n",
       "| 118428 | 04-06-2023 | 17:53:30 | 3 | Airport | 45 | 1 | 3 | Tea | Brewed herbal tea | Peppermint | Large | 3 | June | Sunday    | 17 |\n",
       "| 118913 | 05-06-2023 | 12:01:03 | 3 | Airport | 45 | 1 | 3 | Tea | Brewed herbal tea | Peppermint | Large | 3 | June | Monday    | 12 |\n",
       "| 119196 | 05-06-2023 | 14:19:59 | 3 | Airport | 45 | 1 | 3 | Tea | Brewed herbal tea | Peppermint | Large | 3 | June | Monday    | 14 |\n",
       "| 119240 | 05-06-2023 | 14:42:16 | 3 | Airport | 45 | 1 | 3 | Tea | Brewed herbal tea | Peppermint | Large | 3 | June | Monday    | 14 |\n",
       "| 119351 | 05-06-2023 | 15:51:35 | 3 | Airport | 45 | 1 | 3 | Tea | Brewed herbal tea | Peppermint | Large | 3 | June | Monday    | 15 |\n",
       "| 119444 | 05-06-2023 | 16:52:40 | 3 | Airport | 45 | 1 | 3 | Tea | Brewed herbal tea | Peppermint | Large | 3 | June | Monday    | 16 |\n",
       "| 119692 | 05-06-2023 | 19:51:09 | 3 | Airport | 45 | 1 | 3 | Tea | Brewed herbal tea | Peppermint | Large | 3 | June | Monday    | 19 |\n",
       "| 121279 | 07-06-2023 | 10:16:40 | 3 | Airport | 45 | 1 | 3 | Tea | Brewed herbal tea | Peppermint | Large | 3 | June | Wednesday | 10 |\n",
       "| 121416 | 07-06-2023 | 10:59:19 | 3 | Airport | 45 | 1 | 3 | Tea | Brewed herbal tea | Peppermint | Large | 3 | June | Wednesday | 10 |\n",
       "| 121493 | 07-06-2023 | 12:01:18 | 3 | Airport | 45 | 1 | 3 | Tea | Brewed herbal tea | Peppermint | Large | 3 | June | Wednesday | 12 |\n",
       "| 121656 | 07-06-2023 | 15:05:47 | 3 | Airport | 45 | 1 | 3 | Tea | Brewed herbal tea | Peppermint | Large | 3 | June | Wednesday | 15 |\n",
       "| 121709 | 07-06-2023 | 16:17:25 | 3 | Airport | 45 | 1 | 3 | Tea | Brewed herbal tea | Peppermint | Large | 3 | June | Wednesday | 16 |\n",
       "| 121876 | 07-06-2023 | 19:56:37 | 3 | Airport | 45 | 1 | 3 | Tea | Brewed herbal tea | Peppermint | Large | 3 | June | Wednesday | 19 |\n",
       "| 122518 | 08-06-2023 | 11:09:47 | 3 | Airport | 45 | 1 | 3 | Tea | Brewed herbal tea | Peppermint | Large | 3 | June | Thursday  | 11 |\n",
       "| 122622 | 08-06-2023 | 12:09:57 | 3 | Airport | 45 | 1 | 3 | Tea | Brewed herbal tea | Peppermint | Large | 3 | June | Thursday  | 12 |\n",
       "| 122818 | 08-06-2023 | 15:00:40 | 3 | Airport | 45 | 1 | 3 | Tea | Brewed herbal tea | Peppermint | Large | 3 | June | Thursday  | 15 |\n",
       "| 122954 | 08-06-2023 | 16:58:47 | 3 | Airport | 45 | 1 | 3 | Tea | Brewed herbal tea | Peppermint | Large | 3 | June | Thursday  | 16 |\n",
       "| 123152 | 08-06-2023 | 19:54:56 | 3 | Airport | 45 | 1 | 3 | Tea | Brewed herbal tea | Peppermint | Large | 3 | June | Thursday  | 19 |\n",
       "| 123465 | 09-06-2023 | 08:39:35 | 3 | Airport | 45 | 1 | 3 | Tea | Brewed herbal tea | Peppermint | Large | 3 | June | Friday    |  8 |\n",
       "| 123499 | 09-06-2023 | 08:55:36 | 3 | Airport | 45 | 1 | 3 | Tea | Brewed herbal tea | Peppermint | Large | 3 | June | Friday    |  8 |\n",
       "| ⋮ | ⋮ | ⋮ | ⋮ | ⋮ | ⋮ | ⋮ | ⋮ | ⋮ | ⋮ | ⋮ | ⋮ | ⋮ | ⋮ | ⋮ | ⋮ |\n",
       "|  21589 | 08-02-2023 | 12:58:32 | 5 | Neelambur | 65 | 4 |  0.80 | Flavours     | Sugar free syrup | Sugar Free Vanilla syrup  | Not Defined |   3.2 | February | Wednesday | 12 |\n",
       "|  38601 | 08-03-2023 | 10:01:24 | 5 | Neelambur | 65 | 4 |  0.80 | Flavours     | Sugar free syrup | Sugar Free Vanilla syrup  | Not Defined |   3.2 | March    | Wednesday | 10 |\n",
       "|  38657 | 08-03-2023 | 10:41:55 | 5 | Neelambur | 65 | 4 |  0.80 | Flavours     | Sugar free syrup | Sugar Free Vanilla syrup  | Not Defined |   3.2 | March    | Wednesday | 10 |\n",
       "|  38814 | 08-03-2023 | 13:38:14 | 5 | Neelambur | 64 | 4 |  0.80 | Flavours     | Regular syrup    | Hazelnut syrup            | Not Defined |   3.2 | March    | Wednesday | 13 |\n",
       "|  39060 | 08-03-2023 | 19:32:15 | 5 | Neelambur | 64 | 4 |  0.80 | Flavours     | Regular syrup    | Hazelnut syrup            | Not Defined |   3.2 | March    | Wednesday | 19 |\n",
       "|  39283 | 09-03-2023 | 09:04:04 | 5 | Neelambur | 82 | 6 | 12.00 | Branded      | Housewares       | I Need My Bean! Diner mug | Not Defined |  72.0 | March    | Thursday  |  9 |\n",
       "|  60947 | 08-04-2023 | 10:01:24 | 5 | Neelambur | 65 | 4 |  0.80 | Flavours     | Sugar free syrup | Sugar Free Vanilla syrup  | Not Defined |   3.2 | April    | Saturday  | 10 |\n",
       "|  61227 | 08-04-2023 | 13:38:14 | 5 | Neelambur | 64 | 4 |  0.80 | Flavours     | Regular syrup    | Hazelnut syrup            | Not Defined |   3.2 | April    | Saturday  | 13 |\n",
       "|  61487 | 08-04-2023 | 18:36:57 | 5 | Neelambur | 63 | 4 |  0.80 | Flavours     | Regular syrup    | Carmel syrup              | Not Defined |   3.2 | April    | Saturday  | 18 |\n",
       "|  61792 | 09-04-2023 | 09:04:04 | 5 | Neelambur | 82 | 6 | 12.00 | Branded      | Housewares       | I Need My Bean! Diner mug | Not Defined |  72.0 | April    | Sunday    |  9 |\n",
       "|  68976 | 17-04-2023 | 09:55:47 | 8 | Kalapatti |  8 | 8 | 45.00 | Coffee beans | Premium Beans    | Civet Cat                 | Not Defined | 360.0 | April    | Monday    |  9 |\n",
       "|  69151 | 17-04-2023 | 11:18:31 | 8 | Kalapatti |  8 | 8 | 45.00 | Coffee beans | Premium Beans    | Civet Cat                 | Not Defined | 360.0 | April    | Monday    | 11 |\n",
       "|  88101 | 08-05-2023 | 09:38:08 | 5 | Neelambur | 64 | 4 |  0.80 | Flavours     | Regular syrup    | Hazelnut syrup            | Not Defined |   3.2 | May      | Monday    |  9 |\n",
       "|  88241 | 08-05-2023 | 10:41:55 | 5 | Neelambur | 65 | 4 |  0.80 | Flavours     | Sugar free syrup | Sugar Free Vanilla syrup  | Not Defined |   3.2 | May      | Monday    | 10 |\n",
       "|  88811 | 08-05-2023 | 18:36:57 | 5 | Neelambur | 63 | 4 |  0.80 | Flavours     | Regular syrup    | Carmel syrup              | Not Defined |   3.2 | May      | Monday    | 18 |\n",
       "|  88870 | 08-05-2023 | 19:32:15 | 5 | Neelambur | 64 | 4 |  0.80 | Flavours     | Regular syrup    | Hazelnut syrup            | Not Defined |   3.2 | May      | Monday    | 19 |\n",
       "|  94586 | 14-05-2023 | 08:34:10 | 5 | Neelambur | 41 | 4 |  4.25 | Coffee       | Barista Espresso | Cappuccino                | Large       |  17.0 | May      | Sunday    |  8 |\n",
       "|  98233 | 17-05-2023 | 09:05:20 | 8 | Kalapatti |  8 | 8 | 45.00 | Coffee beans | Premium Beans    | Civet Cat                 | Not Defined | 360.0 | May      | Wednesday |  9 |\n",
       "|  98529 | 17-05-2023 | 11:18:31 | 8 | Kalapatti |  8 | 8 | 45.00 | Coffee beans | Premium Beans    | Civet Cat                 | Not Defined | 360.0 | May      | Wednesday | 11 |\n",
       "| 122436 | 08-06-2023 | 10:41:55 | 5 | Neelambur | 65 | 4 |  0.80 | Flavours     | Sugar free syrup | Sugar Free Vanilla syrup  | Not Defined |   3.2 | June     | Thursday  | 10 |\n",
       "| 122727 | 08-06-2023 | 13:38:14 | 5 | Neelambur | 64 | 4 |  0.80 | Flavours     | Regular syrup    | Hazelnut syrup            | Not Defined |   3.2 | June     | Thursday  | 13 |\n",
       "| 123052 | 08-06-2023 | 18:36:57 | 5 | Neelambur | 63 | 4 |  0.80 | Flavours     | Regular syrup    | Carmel syrup              | Not Defined |   3.2 | June     | Thursday  | 18 |\n",
       "| 123136 | 08-06-2023 | 19:32:15 | 5 | Neelambur | 64 | 4 |  0.80 | Flavours     | Regular syrup    | Hazelnut syrup            | Not Defined |   3.2 | June     | Thursday  | 19 |\n",
       "| 123490 | 09-06-2023 | 08:49:26 | 5 | Neelambur | 83 | 4 | 14.00 | Branded      | Housewares       | I Need My Bean! Latte cup | Not Defined |  56.0 | June     | Friday    |  8 |\n",
       "| 123523 | 09-06-2023 | 09:04:04 | 5 | Neelambur | 82 | 6 | 12.00 | Branded      | Housewares       | I Need My Bean! Diner mug | Not Defined |  72.0 | June     | Friday    |  9 |\n",
       "| 129465 | 14-06-2023 | 08:34:10 | 5 | Neelambur | 41 | 4 |  4.25 | Coffee       | Barista Espresso | Cappuccino                | Large       |  17.0 | June     | Wednesday |  8 |\n",
       "| 133523 | 17-06-2023 | 09:55:47 | 8 | Kalapatti |  8 | 8 | 45.00 | Coffee beans | Premium Beans    | Civet Cat                 | Not Defined | 360.0 | June     | Saturday  |  9 |\n",
       "| 133674 | 17-06-2023 | 10:41:11 | 8 | Kalapatti |  8 | 8 | 45.00 | Coffee beans | Premium Beans    | Civet Cat                 | Not Defined | 360.0 | June     | Saturday  | 10 |\n",
       "| 133744 | 17-06-2023 | 11:18:31 | 8 | Kalapatti |  8 | 8 | 45.00 | Coffee beans | Premium Beans    | Civet Cat                 | Not Defined | 360.0 | June     | Saturday  | 11 |\n",
       "| 149043 | 30-06-2023 | 11:18:31 | 8 | Kalapatti |  8 | 8 | 45.00 | Coffee beans | Premium Beans    | Civet Cat                 | Not Defined | 360.0 | June     | Friday    | 11 |\n",
       "\n"
      ],
      "text/plain": [
       "       transaction_id transaction_date transaction_time store_id store_location\n",
       "1      114301         01-06-2023       11:33:29         3        Airport       \n",
       "2      115405         02-06-2023       11:18:24         3        Airport       \n",
       "3      115478         02-06-2023       12:02:45         3        Airport       \n",
       "4      116288         02-06-2023       19:39:47         3        Airport       \n",
       "5      116714         03-06-2023       12:24:57         3        Airport       \n",
       "6      116739         03-06-2023       12:44:17         3        Airport       \n",
       "7      116853         03-06-2023       13:58:14         3        Airport       \n",
       "8      117389         03-06-2023       18:57:29         3        Airport       \n",
       "9      118056         04-06-2023       14:31:43         3        Airport       \n",
       "10     118281         04-06-2023       16:30:33         3        Airport       \n",
       "11     118428         04-06-2023       17:53:30         3        Airport       \n",
       "12     118913         05-06-2023       12:01:03         3        Airport       \n",
       "13     119196         05-06-2023       14:19:59         3        Airport       \n",
       "14     119240         05-06-2023       14:42:16         3        Airport       \n",
       "15     119351         05-06-2023       15:51:35         3        Airport       \n",
       "16     119444         05-06-2023       16:52:40         3        Airport       \n",
       "17     119692         05-06-2023       19:51:09         3        Airport       \n",
       "18     121279         07-06-2023       10:16:40         3        Airport       \n",
       "19     121416         07-06-2023       10:59:19         3        Airport       \n",
       "20     121493         07-06-2023       12:01:18         3        Airport       \n",
       "21     121656         07-06-2023       15:05:47         3        Airport       \n",
       "22     121709         07-06-2023       16:17:25         3        Airport       \n",
       "23     121876         07-06-2023       19:56:37         3        Airport       \n",
       "24     122518         08-06-2023       11:09:47         3        Airport       \n",
       "25     122622         08-06-2023       12:09:57         3        Airport       \n",
       "26     122818         08-06-2023       15:00:40         3        Airport       \n",
       "27     122954         08-06-2023       16:58:47         3        Airport       \n",
       "28     123152         08-06-2023       19:54:56         3        Airport       \n",
       "29     123465         09-06-2023       08:39:35         3        Airport       \n",
       "30     123499         09-06-2023       08:55:36         3        Airport       \n",
       "⋮      ⋮              ⋮                ⋮                ⋮        ⋮             \n",
       "149087  21589         08-02-2023       12:58:32         5        Neelambur     \n",
       "149088  38601         08-03-2023       10:01:24         5        Neelambur     \n",
       "149089  38657         08-03-2023       10:41:55         5        Neelambur     \n",
       "149090  38814         08-03-2023       13:38:14         5        Neelambur     \n",
       "149091  39060         08-03-2023       19:32:15         5        Neelambur     \n",
       "149092  39283         09-03-2023       09:04:04         5        Neelambur     \n",
       "149093  60947         08-04-2023       10:01:24         5        Neelambur     \n",
       "149094  61227         08-04-2023       13:38:14         5        Neelambur     \n",
       "149095  61487         08-04-2023       18:36:57         5        Neelambur     \n",
       "149096  61792         09-04-2023       09:04:04         5        Neelambur     \n",
       "149097  68976         17-04-2023       09:55:47         8        Kalapatti     \n",
       "149098  69151         17-04-2023       11:18:31         8        Kalapatti     \n",
       "149099  88101         08-05-2023       09:38:08         5        Neelambur     \n",
       "149100  88241         08-05-2023       10:41:55         5        Neelambur     \n",
       "149101  88811         08-05-2023       18:36:57         5        Neelambur     \n",
       "149102  88870         08-05-2023       19:32:15         5        Neelambur     \n",
       "149103  94586         14-05-2023       08:34:10         5        Neelambur     \n",
       "149104  98233         17-05-2023       09:05:20         8        Kalapatti     \n",
       "149105  98529         17-05-2023       11:18:31         8        Kalapatti     \n",
       "149106 122436         08-06-2023       10:41:55         5        Neelambur     \n",
       "149107 122727         08-06-2023       13:38:14         5        Neelambur     \n",
       "149108 123052         08-06-2023       18:36:57         5        Neelambur     \n",
       "149109 123136         08-06-2023       19:32:15         5        Neelambur     \n",
       "149110 123490         09-06-2023       08:49:26         5        Neelambur     \n",
       "149111 123523         09-06-2023       09:04:04         5        Neelambur     \n",
       "149112 129465         14-06-2023       08:34:10         5        Neelambur     \n",
       "149113 133523         17-06-2023       09:55:47         8        Kalapatti     \n",
       "149114 133674         17-06-2023       10:41:11         8        Kalapatti     \n",
       "149115 133744         17-06-2023       11:18:31         8        Kalapatti     \n",
       "149116 149043         30-06-2023       11:18:31         8        Kalapatti     \n",
       "       product_id transaction_qty unit_price product_category product_type     \n",
       "1      45         1               3          Tea              Brewed herbal tea\n",
       "2      45         1               3          Tea              Brewed herbal tea\n",
       "3      45         1               3          Tea              Brewed herbal tea\n",
       "4      45         1               3          Tea              Brewed herbal tea\n",
       "5      45         1               3          Tea              Brewed herbal tea\n",
       "6      45         1               3          Tea              Brewed herbal tea\n",
       "7      45         1               3          Tea              Brewed herbal tea\n",
       "8      45         1               3          Tea              Brewed herbal tea\n",
       "9      45         1               3          Tea              Brewed herbal tea\n",
       "10     45         1               3          Tea              Brewed herbal tea\n",
       "11     45         1               3          Tea              Brewed herbal tea\n",
       "12     45         1               3          Tea              Brewed herbal tea\n",
       "13     45         1               3          Tea              Brewed herbal tea\n",
       "14     45         1               3          Tea              Brewed herbal tea\n",
       "15     45         1               3          Tea              Brewed herbal tea\n",
       "16     45         1               3          Tea              Brewed herbal tea\n",
       "17     45         1               3          Tea              Brewed herbal tea\n",
       "18     45         1               3          Tea              Brewed herbal tea\n",
       "19     45         1               3          Tea              Brewed herbal tea\n",
       "20     45         1               3          Tea              Brewed herbal tea\n",
       "21     45         1               3          Tea              Brewed herbal tea\n",
       "22     45         1               3          Tea              Brewed herbal tea\n",
       "23     45         1               3          Tea              Brewed herbal tea\n",
       "24     45         1               3          Tea              Brewed herbal tea\n",
       "25     45         1               3          Tea              Brewed herbal tea\n",
       "26     45         1               3          Tea              Brewed herbal tea\n",
       "27     45         1               3          Tea              Brewed herbal tea\n",
       "28     45         1               3          Tea              Brewed herbal tea\n",
       "29     45         1               3          Tea              Brewed herbal tea\n",
       "30     45         1               3          Tea              Brewed herbal tea\n",
       "⋮      ⋮          ⋮               ⋮          ⋮                ⋮                \n",
       "149087 65         4                0.80      Flavours         Sugar free syrup \n",
       "149088 65         4                0.80      Flavours         Sugar free syrup \n",
       "149089 65         4                0.80      Flavours         Sugar free syrup \n",
       "149090 64         4                0.80      Flavours         Regular syrup    \n",
       "149091 64         4                0.80      Flavours         Regular syrup    \n",
       "149092 82         6               12.00      Branded          Housewares       \n",
       "149093 65         4                0.80      Flavours         Sugar free syrup \n",
       "149094 64         4                0.80      Flavours         Regular syrup    \n",
       "149095 63         4                0.80      Flavours         Regular syrup    \n",
       "149096 82         6               12.00      Branded          Housewares       \n",
       "149097  8         8               45.00      Coffee beans     Premium Beans    \n",
       "149098  8         8               45.00      Coffee beans     Premium Beans    \n",
       "149099 64         4                0.80      Flavours         Regular syrup    \n",
       "149100 65         4                0.80      Flavours         Sugar free syrup \n",
       "149101 63         4                0.80      Flavours         Regular syrup    \n",
       "149102 64         4                0.80      Flavours         Regular syrup    \n",
       "149103 41         4                4.25      Coffee           Barista Espresso \n",
       "149104  8         8               45.00      Coffee beans     Premium Beans    \n",
       "149105  8         8               45.00      Coffee beans     Premium Beans    \n",
       "149106 65         4                0.80      Flavours         Sugar free syrup \n",
       "149107 64         4                0.80      Flavours         Regular syrup    \n",
       "149108 63         4                0.80      Flavours         Regular syrup    \n",
       "149109 64         4                0.80      Flavours         Regular syrup    \n",
       "149110 83         4               14.00      Branded          Housewares       \n",
       "149111 82         6               12.00      Branded          Housewares       \n",
       "149112 41         4                4.25      Coffee           Barista Espresso \n",
       "149113  8         8               45.00      Coffee beans     Premium Beans    \n",
       "149114  8         8               45.00      Coffee beans     Premium Beans    \n",
       "149115  8         8               45.00      Coffee beans     Premium Beans    \n",
       "149116  8         8               45.00      Coffee beans     Premium Beans    \n",
       "       product_detail            Size        Total_bill Month Name Day Name \n",
       "1      Peppermint                Large       3          June       Thursday \n",
       "2      Peppermint                Large       3          June       Friday   \n",
       "3      Peppermint                Large       3          June       Friday   \n",
       "4      Peppermint                Large       3          June       Friday   \n",
       "5      Peppermint                Large       3          June       Saturday \n",
       "6      Peppermint                Large       3          June       Saturday \n",
       "7      Peppermint                Large       3          June       Saturday \n",
       "8      Peppermint                Large       3          June       Saturday \n",
       "9      Peppermint                Large       3          June       Sunday   \n",
       "10     Peppermint                Large       3          June       Sunday   \n",
       "11     Peppermint                Large       3          June       Sunday   \n",
       "12     Peppermint                Large       3          June       Monday   \n",
       "13     Peppermint                Large       3          June       Monday   \n",
       "14     Peppermint                Large       3          June       Monday   \n",
       "15     Peppermint                Large       3          June       Monday   \n",
       "16     Peppermint                Large       3          June       Monday   \n",
       "17     Peppermint                Large       3          June       Monday   \n",
       "18     Peppermint                Large       3          June       Wednesday\n",
       "19     Peppermint                Large       3          June       Wednesday\n",
       "20     Peppermint                Large       3          June       Wednesday\n",
       "21     Peppermint                Large       3          June       Wednesday\n",
       "22     Peppermint                Large       3          June       Wednesday\n",
       "23     Peppermint                Large       3          June       Wednesday\n",
       "24     Peppermint                Large       3          June       Thursday \n",
       "25     Peppermint                Large       3          June       Thursday \n",
       "26     Peppermint                Large       3          June       Thursday \n",
       "27     Peppermint                Large       3          June       Thursday \n",
       "28     Peppermint                Large       3          June       Thursday \n",
       "29     Peppermint                Large       3          June       Friday   \n",
       "30     Peppermint                Large       3          June       Friday   \n",
       "⋮      ⋮                         ⋮           ⋮          ⋮          ⋮        \n",
       "149087 Sugar Free Vanilla syrup  Not Defined   3.2      February   Wednesday\n",
       "149088 Sugar Free Vanilla syrup  Not Defined   3.2      March      Wednesday\n",
       "149089 Sugar Free Vanilla syrup  Not Defined   3.2      March      Wednesday\n",
       "149090 Hazelnut syrup            Not Defined   3.2      March      Wednesday\n",
       "149091 Hazelnut syrup            Not Defined   3.2      March      Wednesday\n",
       "149092 I Need My Bean! Diner mug Not Defined  72.0      March      Thursday \n",
       "149093 Sugar Free Vanilla syrup  Not Defined   3.2      April      Saturday \n",
       "149094 Hazelnut syrup            Not Defined   3.2      April      Saturday \n",
       "149095 Carmel syrup              Not Defined   3.2      April      Saturday \n",
       "149096 I Need My Bean! Diner mug Not Defined  72.0      April      Sunday   \n",
       "149097 Civet Cat                 Not Defined 360.0      April      Monday   \n",
       "149098 Civet Cat                 Not Defined 360.0      April      Monday   \n",
       "149099 Hazelnut syrup            Not Defined   3.2      May        Monday   \n",
       "149100 Sugar Free Vanilla syrup  Not Defined   3.2      May        Monday   \n",
       "149101 Carmel syrup              Not Defined   3.2      May        Monday   \n",
       "149102 Hazelnut syrup            Not Defined   3.2      May        Monday   \n",
       "149103 Cappuccino                Large        17.0      May        Sunday   \n",
       "149104 Civet Cat                 Not Defined 360.0      May        Wednesday\n",
       "149105 Civet Cat                 Not Defined 360.0      May        Wednesday\n",
       "149106 Sugar Free Vanilla syrup  Not Defined   3.2      June       Thursday \n",
       "149107 Hazelnut syrup            Not Defined   3.2      June       Thursday \n",
       "149108 Carmel syrup              Not Defined   3.2      June       Thursday \n",
       "149109 Hazelnut syrup            Not Defined   3.2      June       Thursday \n",
       "149110 I Need My Bean! Latte cup Not Defined  56.0      June       Friday   \n",
       "149111 I Need My Bean! Diner mug Not Defined  72.0      June       Friday   \n",
       "149112 Cappuccino                Large        17.0      June       Wednesday\n",
       "149113 Civet Cat                 Not Defined 360.0      June       Saturday \n",
       "149114 Civet Cat                 Not Defined 360.0      June       Saturday \n",
       "149115 Civet Cat                 Not Defined 360.0      June       Saturday \n",
       "149116 Civet Cat                 Not Defined 360.0      June       Friday   \n",
       "       Hour\n",
       "1      11  \n",
       "2      11  \n",
       "3      12  \n",
       "4      19  \n",
       "5      12  \n",
       "6      12  \n",
       "7      13  \n",
       "8      18  \n",
       "9      14  \n",
       "10     16  \n",
       "11     17  \n",
       "12     12  \n",
       "13     14  \n",
       "14     14  \n",
       "15     15  \n",
       "16     16  \n",
       "17     19  \n",
       "18     10  \n",
       "19     10  \n",
       "20     12  \n",
       "21     15  \n",
       "22     16  \n",
       "23     19  \n",
       "24     11  \n",
       "25     12  \n",
       "26     15  \n",
       "27     16  \n",
       "28     19  \n",
       "29      8  \n",
       "30      8  \n",
       "⋮      ⋮   \n",
       "149087 12  \n",
       "149088 10  \n",
       "149089 10  \n",
       "149090 13  \n",
       "149091 19  \n",
       "149092  9  \n",
       "149093 10  \n",
       "149094 13  \n",
       "149095 18  \n",
       "149096  9  \n",
       "149097  9  \n",
       "149098 11  \n",
       "149099  9  \n",
       "149100 10  \n",
       "149101 18  \n",
       "149102 19  \n",
       "149103  8  \n",
       "149104  9  \n",
       "149105 11  \n",
       "149106 10  \n",
       "149107 13  \n",
       "149108 18  \n",
       "149109 19  \n",
       "149110  8  \n",
       "149111  9  \n",
       "149112  8  \n",
       "149113  9  \n",
       "149114 10  \n",
       "149115 11  \n",
       "149116 11  "
      ]
     },
     "metadata": {},
     "output_type": "display_data"
    },
    {
     "name": "stdout",
     "output_type": "stream",
     "text": [
      "spc_tbl_ [149,116 × 16] (S3: spec_tbl_df/tbl_df/tbl/data.frame)\n",
      " $ transaction_id  : num [1:149116] 114301 115405 115478 116288 116714 ...\n",
      " $ transaction_date: chr [1:149116] \"01-06-2023\" \"02-06-2023\" \"02-06-2023\" \"02-06-2023\" ...\n",
      " $ transaction_time: 'hms' num [1:149116] 11:33:29 11:18:24 12:02:45 19:39:47 ...\n",
      "  ..- attr(*, \"units\")= chr \"secs\"\n",
      " $ store_id        : num [1:149116] 3 3 3 3 3 3 3 3 3 3 ...\n",
      " $ store_location  : chr [1:149116] \"Airport\" \"Airport\" \"Airport\" \"Airport\" ...\n",
      " $ product_id      : num [1:149116] 45 45 45 45 45 45 45 45 45 45 ...\n",
      " $ transaction_qty : num [1:149116] 1 1 1 1 1 1 1 1 1 1 ...\n",
      " $ unit_price      : num [1:149116] 3 3 3 3 3 3 3 3 3 3 ...\n",
      " $ product_category: chr [1:149116] \"Tea\" \"Tea\" \"Tea\" \"Tea\" ...\n",
      " $ product_type    : chr [1:149116] \"Brewed herbal tea\" \"Brewed herbal tea\" \"Brewed herbal tea\" \"Brewed herbal tea\" ...\n",
      " $ product_detail  : chr [1:149116] \"Peppermint\" \"Peppermint\" \"Peppermint\" \"Peppermint\" ...\n",
      " $ Size            : chr [1:149116] \"Large\" \"Large\" \"Large\" \"Large\" ...\n",
      " $ Total_bill      : num [1:149116] 3 3 3 3 3 3 3 3 3 3 ...\n",
      " $ Month Name      : chr [1:149116] \"June\" \"June\" \"June\" \"June\" ...\n",
      " $ Day Name        : chr [1:149116] \"Thursday\" \"Friday\" \"Friday\" \"Friday\" ...\n",
      " $ Hour            : num [1:149116] 11 11 12 19 12 12 13 18 14 16 ...\n",
      " - attr(*, \"spec\")=\n",
      "  .. cols(\n",
      "  ..   transaction_id = \u001b[32mcol_double()\u001b[39m,\n",
      "  ..   transaction_date = \u001b[31mcol_character()\u001b[39m,\n",
      "  ..   transaction_time = \u001b[34mcol_time(format = \"\")\u001b[39m,\n",
      "  ..   store_id = \u001b[32mcol_double()\u001b[39m,\n",
      "  ..   store_location = \u001b[31mcol_character()\u001b[39m,\n",
      "  ..   product_id = \u001b[32mcol_double()\u001b[39m,\n",
      "  ..   transaction_qty = \u001b[32mcol_double()\u001b[39m,\n",
      "  ..   unit_price = \u001b[32mcol_double()\u001b[39m,\n",
      "  ..   product_category = \u001b[31mcol_character()\u001b[39m,\n",
      "  ..   product_type = \u001b[31mcol_character()\u001b[39m,\n",
      "  ..   product_detail = \u001b[31mcol_character()\u001b[39m,\n",
      "  ..   Size = \u001b[31mcol_character()\u001b[39m,\n",
      "  ..   Total_bill = \u001b[32mcol_double()\u001b[39m,\n",
      "  ..   `Month Name` = \u001b[31mcol_character()\u001b[39m,\n",
      "  ..   `Day Name` = \u001b[31mcol_character()\u001b[39m,\n",
      "  ..   Hour = \u001b[32mcol_double()\u001b[39m\n",
      "  .. )\n",
      " - attr(*, \"problems\")=<externalptr> \n"
     ]
    }
   ],
   "source": [
    "file_path <- \"D:/raw.csv\"\n",
    "df = \n",
    "View(df) \n",
    "#STRUCTURE OF THE DATA \n",
    "str(df)\n"
   ]
  },
  {
   "cell_type": "code",
   "execution_count": 11,
   "id": "7626845b-5c70-4921-81e0-7db3c8d8ad7f",
   "metadata": {
    "vscode": {
     "languageId": "r"
    }
   },
   "outputs": [],
   "source": [
    "# Convert necessary columns to appropriate data types\n",
    "df$transaction_date <- as.Date(df$transaction_date)\n",
    "df$transaction_time <- hms::as_hms(df$transaction_time)\n"
   ]
  },
  {
   "cell_type": "code",
   "execution_count": 12,
   "id": "352ee8db-096e-4b49-9477-b6b182671fcc",
   "metadata": {
    "vscode": {
     "languageId": "r"
    }
   },
   "outputs": [],
   "source": [
    "# 1. Time-based Analysis\n",
    "\n",
    "# Transactions by Hour\n",
    "hourly_sales <- df %>%\n",
    "  group_by(Hour) %>%\n",
    "  summarize(total_transactions = n(),\n",
    "            total_sales = sum(Total_bill))\n"
   ]
  },
  {
   "cell_type": "code",
   "execution_count": 13,
   "id": "63674315-4382-4b78-89fa-f80e944453bb",
   "metadata": {
    "vscode": {
     "languageId": "r"
    }
   },
   "outputs": [
    {
     "data": {
      "image/png": "[encoded data removed]",
      "text/plain": [
       "plot without title"
      ]
     },
     "metadata": {
      "image/png": {
       "height": 420,
       "width": 420
      }
     },
     "output_type": "display_data"
    }
   ],
   "source": [
    "# Plot transactions by hour\n",
    "ggplot(hourly_sales, aes(x = Hour, y = total_transactions)) +\n",
    "  geom_line() +\n",
    "  labs(title = \"Transactions by Hour\", x = \"Hour\", y = \"Number of Transactions\")\n"
   ]
  },
  {
   "cell_type": "code",
   "execution_count": 14,
   "id": "7ab0c233-fd9d-4e1c-8c70-9a1c8467d713",
   "metadata": {
    "vscode": {
     "languageId": "r"
    }
   },
   "outputs": [
    {
     "data": {
      "image/png": "[encoded data removed]",
      "text/plain": [
       "plot without title"
      ]
     },
     "metadata": {
      "image/png": {
       "height": 420,
       "width": 420
      }
     },
     "output_type": "display_data"
    }
   ],
   "source": [
    "# Transactions by Day\n",
    "daily_sales <- df %>%\n",
    "  group_by(`Day Name`) %>%\n",
    "  summarize(total_transactions = n(),\n",
    "            total_sales = sum(Total_bill))\n",
    "\n",
    "# Plot transactions by day\n",
    "ggplot(daily_sales, aes(x = reorder(`Day Name`, total_transactions), y = total_transactions)) +\n",
    "  geom_bar(stat = \"identity\") +\n",
    "  labs(title = \"Transactions by Day\", x = \"Day of the Week\", y = \"Number of Transactions\")\n"
   ]
  },
  {
   "cell_type": "code",
   "execution_count": 15,
   "id": "9dbb4d60-ec51-45d6-8db1-94bf0d48fc6c",
   "metadata": {
    "vscode": {
     "languageId": "r"
    }
   },
   "outputs": [
    {
     "data": {
      "image/png": "[encoded data removed]",
      "text/plain": [
       "plot without title"
      ]
     },
     "metadata": {
      "image/png": {
       "height": 420,
       "width": 420
      }
     },
     "output_type": "display_data"
    }
   ],
   "source": [
    "# Transactions by Month\n",
    "monthly_sales <- df %>%\n",
    "  group_by(`Month Name`) %>%\n",
    "  summarize(total_transactions = n(),\n",
    "            total_sales = sum(Total_bill))\n",
    "\n",
    "# Plot transactions by month\n",
    "ggplot(monthly_sales, aes(x = reorder(`Month Name`, total_transactions), y = total_transactions)) +\n",
    "  geom_bar(stat = \"identity\") +\n",
    "  labs(title = \"Transactions by Month\", x = \"Month\", y = \"Number of Transactions\")\n"
   ]
  },
  {
   "cell_type": "markdown",
   "id": "60b396a6",
   "metadata": {},
   "source": []
  },
  {
   "cell_type": "code",
   "execution_count": 17,
   "id": "c1f95035-be6e-457a-bb25-644975c83c17",
   "metadata": {
    "vscode": {
     "languageId": "r"
    }
   },
   "outputs": [
    {
     "data": {
      "image/png": "[encoded data removed]",
      "text/plain": [
       "plot without title"
      ]
     },
     "metadata": {
      "image/png": {
       "height": 420,
       "width": 420
      }
     },
     "output_type": "display_data"
    }
   ],
   "source": [
    "# Transactions by Product Type\n",
    "type_sales <- df %>%\n",
    "  group_by(product_type) %>%\n",
    "  summarize(total_transactions = n(),\n",
    "            total_sales = sum(Total_bill))\n",
    "\n",
    "# Plot transactions by product type\n",
    "ggplot(type_sales, aes(x = reorder(product_type, total_transactions), y = total_transactions)) +\n",
    "  geom_bar(stat = \"identity\") +\n",
    "  labs(title = \"Transactions by Product Type\", x = \"Product Type\", y = \"Number of Transactions\")\n"
   ]
  },
  {
   "cell_type": "code",
   "execution_count": 18,
   "id": "02cff7a0-42b5-43a8-adb0-10f173156c21",
   "metadata": {
    "vscode": {
     "languageId": "r"
    }
   },
   "outputs": [
    {
     "data": {
      "image/png": "[encoded data removed]",
      "text/plain": [
       "plot without title"
      ]
     },
     "metadata": {
      "image/png": {
       "height": 420,
       "width": 420
      }
     },
     "output_type": "display_data"
    }
   ],
   "source": [
    "# 3. Location-based Analysis\n",
    "\n",
    "# Transactions by Store Location\n",
    "location_sales <- df %>%\n",
    "  group_by(store_location) %>%\n",
    "  summarize(total_transactions = n(),\n",
    "            total_sales = sum(Total_bill))\n",
    "\n",
    "# Plot transactions by store location\n",
    "ggplot(location_sales, aes(x = reorder(store_location, total_transactions), y = total_transactions)) +\n",
    "  geom_bar(stat = \"identity\") +\n",
    "  labs(title = \"Transactions by Store Location\", x = \"Store Location\", y = \"Number of Transactions\")\n"
   ]
  },
  {
   "cell_type": "code",
   "execution_count": 19,
   "id": "46b8eaaa-1ede-42c2-9247-e78a2b0ad4a8",
   "metadata": {
    "vscode": {
     "languageId": "r"
    }
   },
   "outputs": [
    {
     "data": {
      "text/html": [
       "0.356230852623081"
      ],
      "text/latex": [
       "0.356230852623081"
      ],
      "text/markdown": [
       "0.356230852623081"
      ],
      "text/plain": [
       "[1] 0.3562309"
      ]
     },
     "metadata": {},
     "output_type": "display_data"
    },
    {
     "name": "stderr",
     "output_type": "stream",
     "text": [
      "\u001b[1m\u001b[22m`geom_smooth()` using formula = 'y ~ x'\n"
     ]
    },
    {
     "data": {
      "image/png": "[encoded data removed]",
      "text/plain": [
       "plot without title"
      ]
     },
     "metadata": {
      "image/png": {
       "height": 420,
       "width": 420
      }
     },
     "output_type": "display_data"
    }
   ],
   "source": [
    "# 4. Correlation Analysis\n",
    "\n",
    "# Transaction Quantity vs. Total Bill\n",
    "correlation <- cor(df$transaction_qty, df$Total_bill)\n",
    "correlation\n",
    "\n",
    "# Plot the relationship between transaction quantity and total bill\n",
    "ggplot(df, aes(x = transaction_qty, y = Total_bill)) +\n",
    "  geom_point(alpha = 0.5) +\n",
    "  geom_smooth(method = \"lm\", col = \"blue\") +\n",
    "  labs(title = \"Transaction Quantity vs. Total Bill\", x = \"Transaction Quantity\", y = \"Total Bill\")\n"
   ]
  },
  {
   "cell_type": "code",
   "execution_count": null,
   "id": "85d10680-78d3-4c37-b924-6799b1733d35",
   "metadata": {
    "vscode": {
     "languageId": "r"
    }
   },
   "outputs": [],
   "source": []
  }
 ],
 "metadata": {
  "kernelspec": {
   "display_name": "R",
   "language": "R",
   "name": "ir"
  },
  "language_info": {
   "codemirror_mode": "r",
   "file_extension": ".r",
   "mimetype": "text/x-r-source",
   "name": "R",
   "pygments_lexer": "r",
   "version": "4.4.0"
  }
 },
 "nbformat": 4,
 "nbformat_minor": 5
}
